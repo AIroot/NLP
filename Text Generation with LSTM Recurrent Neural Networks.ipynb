{
 "cells": [
  {
   "cell_type": "code",
   "execution_count": 1,
   "metadata": {},
   "outputs": [
    {
     "name": "stderr",
     "output_type": "stream",
     "text": [
      "Using TensorFlow backend.\n"
     ]
    }
   ],
   "source": [
    "# import classes and functions\n",
    "import numpy\n",
    "from keras.models import Sequential\n",
    "from keras.layers import Dense\n",
    "from keras.layers import Dropout\n",
    "from keras.layers import LSTM\n",
    "from keras.callbacks import ModelCheckpoint\n",
    "from keras.utils import np_utils\n"
   ]
  },
  {
   "cell_type": "code",
   "execution_count": 2,
   "metadata": {},
   "outputs": [],
   "source": [
    "# Load ascii text and convert to lowercase\n",
    "filename = \"wonderland.txt\"\n",
    "raw_text = open(filename).read()\n",
    "raw_text = raw_text.lower()"
   ]
  },
  {
   "cell_type": "code",
   "execution_count": 3,
   "metadata": {},
   "outputs": [],
   "source": [
    "# Prepare the data for modeling by the neural network\n",
    "# we cann't model the characters directly, instead we must convert the characters to integers. \n",
    "# Step 01: creating a set of all of the distinct characters in the book\n",
    "# Step 02: creating a map of each character to a unique integer"
   ]
  },
  {
   "cell_type": "code",
   "execution_count": 4,
   "metadata": {},
   "outputs": [],
   "source": [
    "# Create mapping of unique chars to integers\n",
    "chars = sorted(list(set(raw_text)))\n",
    "char_to_int = dict((c, i) for i, c in enumerate(chars))"
   ]
  },
  {
   "cell_type": "code",
   "execution_count": 5,
   "metadata": {},
   "outputs": [
    {
     "name": "stdout",
     "output_type": "stream",
     "text": [
      "Total Characters:  144354\n",
      "Total Vocab:  43\n"
     ]
    }
   ],
   "source": [
    "# We can see there may be some characters that we could remove to further clean up the data set that will reduce \n",
    "# the vocabulary and may improve the modeling process.\n",
    "# Summarize the dataset\n",
    "n_chars = len(raw_text)\n",
    "n_vocab = len(chars)\n",
    "print \"Total Characters: \", n_chars\n",
    "print \"Total Vocab: \", n_vocab"
   ]
  },
  {
   "cell_type": "code",
   "execution_count": 6,
   "metadata": {},
   "outputs": [
    {
     "name": "stdout",
     "output_type": "stream",
     "text": [
      "Total Patterns:  144254\n"
     ]
    }
   ],
   "source": [
    "# Prepare the dataset of input to output pairs encoded as integers\n",
    "seq_length = 100\n",
    "dataX = []\n",
    "dataY = []\n",
    "for i in range(0, n_chars - seq_length, 1):\n",
    "    seq_in = raw_text[i:i + seq_length]\n",
    "    seq_out = raw_text[i + seq_length]\n",
    "    dataX.append([char_to_int[char] for char in seq_in])\n",
    "    dataY.append(char_to_int[seq_out])\n",
    "n_patterns = len(dataX)\n",
    "print \"Total Patterns: \", n_patterns\n"
   ]
  },
  {
   "cell_type": "code",
   "execution_count": 7,
   "metadata": {},
   "outputs": [],
   "source": [
    "# Now we have prepared our training data \n",
    "# LSTM network requierment\n",
    "# First we must transform the list of input sequences into the form\n",
    "# [sample, time steps, features]\n",
    "# Second we need to rescale the integers to the range 0-to-1 to make the patterns easier to learn by the LSTM network\n",
    "# that use the sigmoid activation function by default\n",
    "# Finally, we need to convert the output patterns into a one hot encoding. \n",
    "# We can configure the network to predict the probability of each of the 43 different characters in the vocabulary\n",
    "# rather than trying to force it to predict precisely the next character. \n",
    "\n",
    "### Each y value is converted into a sparse vector with a length of 43, full of zeros except with a 1 in the column for\n",
    "### the letter (integer) that the pattern represents."
   ]
  },
  {
   "cell_type": "code",
   "execution_count": 8,
   "metadata": {},
   "outputs": [],
   "source": [
    "# Reshape X to be [Samples, time steps, features]\n",
    "X = numpy.reshape(dataX, (n_patterns, seq_length, 1))\n",
    "# normalize\n",
    "X = X / float(n_vocab)\n",
    "# one hot encode the output variable\n",
    "y = np_utils.to_categorical(dataY)"
   ]
  },
  {
   "cell_type": "code",
   "execution_count": 9,
   "metadata": {},
   "outputs": [],
   "source": [
    "# Define the LSTM model\n",
    "model = Sequential()\n",
    "model.add(LSTM(256, input_shape=(X.shape[1], X.shape[2])))\n",
    "model.add(Dropout(0.2))\n",
    "model.add(Dense(y.shape[1], activation='softmax'))\n",
    "model.compile(loss='categorical_crossentropy', optimizer='adam')"
   ]
  },
  {
   "cell_type": "code",
   "execution_count": 10,
   "metadata": {},
   "outputs": [],
   "source": [
    "# Define the checkpoint\n",
    "filepath = \"weights-improvement-{epoch:02d}-{loss:.4f}.hdf5\"\n",
    "checkpoint = ModelCheckpoint(filepath, monitor='loss', verbose=1, save_best_only=True, mode='min')\n",
    "callbacks_list = [checkpoint]"
   ]
  },
  {
   "cell_type": "code",
   "execution_count": 11,
   "metadata": {},
   "outputs": [
    {
     "name": "stdout",
     "output_type": "stream",
     "text": [
      "Epoch 1/20\n",
      "144254/144254 [==============================] - 471s 3ms/step - loss: 2.9579\n",
      "\n",
      "Epoch 00001: loss improved from inf to 2.95786, saving model to weights-improvement-01-2.9579.hdf5\n",
      "Epoch 2/20\n",
      "144254/144254 [==============================] - 340s 2ms/step - loss: 2.7467\n",
      "\n",
      "Epoch 00002: loss improved from 2.95786 to 2.74672, saving model to weights-improvement-02-2.7467.hdf5\n",
      "Epoch 3/20\n",
      "144254/144254 [==============================] - 1372s 10ms/step - loss: 2.6480\n",
      "\n",
      "Epoch 00003: loss improved from 2.74672 to 2.64804, saving model to weights-improvement-03-2.6480.hdf5\n",
      "Epoch 4/20\n",
      "144254/144254 [==============================] - 341s 2ms/step - loss: 2.5650\n",
      "\n",
      "Epoch 00004: loss improved from 2.64804 to 2.56503, saving model to weights-improvement-04-2.5650.hdf5\n",
      "Epoch 5/20\n",
      "144254/144254 [==============================] - 341s 2ms/step - loss: 2.4967\n",
      "\n",
      "Epoch 00005: loss improved from 2.56503 to 2.49671, saving model to weights-improvement-05-2.4967.hdf5\n",
      "Epoch 6/20\n",
      "144254/144254 [==============================] - 342s 2ms/step - loss: 2.4370\n",
      "\n",
      "Epoch 00006: loss improved from 2.49671 to 2.43705, saving model to weights-improvement-06-2.4370.hdf5\n",
      "Epoch 7/20\n",
      "144254/144254 [==============================] - 343s 2ms/step - loss: 2.3840\n",
      "\n",
      "Epoch 00007: loss improved from 2.43705 to 2.38402, saving model to weights-improvement-07-2.3840.hdf5\n",
      "Epoch 8/20\n",
      "144254/144254 [==============================] - 339s 2ms/step - loss: 2.3314\n",
      "\n",
      "Epoch 00008: loss improved from 2.38402 to 2.33143, saving model to weights-improvement-08-2.3314.hdf5\n",
      "Epoch 9/20\n",
      "144254/144254 [==============================] - 338s 2ms/step - loss: 2.2842\n",
      "\n",
      "Epoch 00009: loss improved from 2.33143 to 2.28425, saving model to weights-improvement-09-2.2842.hdf5\n",
      "Epoch 10/20\n",
      "144254/144254 [==============================] - 339s 2ms/step - loss: 2.2390\n",
      "\n",
      "Epoch 00010: loss improved from 2.28425 to 2.23901, saving model to weights-improvement-10-2.2390.hdf5\n",
      "Epoch 11/20\n",
      "144254/144254 [==============================] - 339s 2ms/step - loss: 2.1973\n",
      "\n",
      "Epoch 00011: loss improved from 2.23901 to 2.19725, saving model to weights-improvement-11-2.1973.hdf5\n",
      "Epoch 12/20\n",
      "144254/144254 [==============================] - 339s 2ms/step - loss: 2.1550\n",
      "\n",
      "Epoch 00012: loss improved from 2.19725 to 2.15500, saving model to weights-improvement-12-2.1550.hdf5\n",
      "Epoch 13/20\n",
      "144254/144254 [==============================] - 339s 2ms/step - loss: 2.1169\n",
      "\n",
      "Epoch 00013: loss improved from 2.15500 to 2.11692, saving model to weights-improvement-13-2.1169.hdf5\n",
      "Epoch 14/20\n",
      "144254/144254 [==============================] - 339s 2ms/step - loss: 2.0794\n",
      "\n",
      "Epoch 00014: loss improved from 2.11692 to 2.07944, saving model to weights-improvement-14-2.0794.hdf5\n",
      "Epoch 15/20\n",
      "144254/144254 [==============================] - 339s 2ms/step - loss: 2.0433\n",
      "\n",
      "Epoch 00015: loss improved from 2.07944 to 2.04332, saving model to weights-improvement-15-2.0433.hdf5\n",
      "Epoch 16/20\n",
      "144254/144254 [==============================] - 338s 2ms/step - loss: 2.0088\n",
      "\n",
      "Epoch 00016: loss improved from 2.04332 to 2.00876, saving model to weights-improvement-16-2.0088.hdf5\n",
      "Epoch 17/20\n",
      "144254/144254 [==============================] - 339s 2ms/step - loss: 1.9774\n",
      "\n",
      "Epoch 00017: loss improved from 2.00876 to 1.97744, saving model to weights-improvement-17-1.9774.hdf5\n",
      "Epoch 18/20\n",
      "144254/144254 [==============================] - 339s 2ms/step - loss: 1.9469\n",
      "\n",
      "Epoch 00018: loss improved from 1.97744 to 1.94688, saving model to weights-improvement-18-1.9469.hdf5\n",
      "Epoch 19/20\n",
      "144254/144254 [==============================] - 339s 2ms/step - loss: 1.9189\n",
      "\n",
      "Epoch 00019: loss improved from 1.94688 to 1.91888, saving model to weights-improvement-19-1.9189.hdf5\n",
      "Epoch 20/20\n",
      "144254/144254 [==============================] - 339s 2ms/step - loss: 1.8926\n",
      "\n",
      "Epoch 00020: loss improved from 1.91888 to 1.89258, saving model to weights-improvement-20-1.8926.hdf5\n"
     ]
    },
    {
     "data": {
      "text/plain": [
       "<keras.callbacks.History at 0x110d29fd0>"
      ]
     },
     "execution_count": 11,
     "metadata": {},
     "output_type": "execute_result"
    }
   ],
   "source": [
    "# Fit our model to the data. Here we use a modest number of 20 epochs and a large batch size of 128 patterns.\n",
    "model.fit(X, y, epochs=20, batch_size=128, callbacks=callbacks_list)"
   ]
  },
  {
   "cell_type": "code",
   "execution_count": null,
   "metadata": {},
   "outputs": [],
   "source": []
  }
 ],
 "metadata": {
  "kernelspec": {
   "display_name": "Python 2",
   "language": "python",
   "name": "python2"
  },
  "language_info": {
   "codemirror_mode": {
    "name": "ipython",
    "version": 2
   },
   "file_extension": ".py",
   "mimetype": "text/x-python",
   "name": "python",
   "nbconvert_exporter": "python",
   "pygments_lexer": "ipython2",
   "version": "2.7.10"
  }
 },
 "nbformat": 4,
 "nbformat_minor": 2
}
